{
 "cells": [
  {
   "cell_type": "code",
   "execution_count": 7,
   "id": "420f78ad",
   "metadata": {},
   "outputs": [],
   "source": [
    "import pandas as pd\n",
    "\n",
    "# 读取包含电影和用户的数据表\n",
    "data = {\n",
    "    'movie_id': [1, 2, 3, 1, 2, 3],\n",
    "    'user_id': [101, 102, 101, 101, 104, 104]\n",
    "}\n",
    "df = pd.DataFrame(data)"
   ]
  },
  {
   "cell_type": "code",
   "execution_count": 8,
   "id": "d3fd813c",
   "metadata": {},
   "outputs": [
    {
     "data": {
      "text/html": [
       "<div>\n",
       "<style scoped>\n",
       "    .dataframe tbody tr th:only-of-type {\n",
       "        vertical-align: middle;\n",
       "    }\n",
       "\n",
       "    .dataframe tbody tr th {\n",
       "        vertical-align: top;\n",
       "    }\n",
       "\n",
       "    .dataframe thead th {\n",
       "        text-align: right;\n",
       "    }\n",
       "</style>\n",
       "<table border=\"1\" class=\"dataframe\">\n",
       "  <thead>\n",
       "    <tr style=\"text-align: right;\">\n",
       "      <th></th>\n",
       "      <th>movie_id</th>\n",
       "      <th>user_id</th>\n",
       "    </tr>\n",
       "  </thead>\n",
       "  <tbody>\n",
       "    <tr>\n",
       "      <th>0</th>\n",
       "      <td>1</td>\n",
       "      <td>101</td>\n",
       "    </tr>\n",
       "    <tr>\n",
       "      <th>1</th>\n",
       "      <td>2</td>\n",
       "      <td>102</td>\n",
       "    </tr>\n",
       "    <tr>\n",
       "      <th>2</th>\n",
       "      <td>3</td>\n",
       "      <td>101</td>\n",
       "    </tr>\n",
       "    <tr>\n",
       "      <th>3</th>\n",
       "      <td>1</td>\n",
       "      <td>101</td>\n",
       "    </tr>\n",
       "    <tr>\n",
       "      <th>4</th>\n",
       "      <td>2</td>\n",
       "      <td>104</td>\n",
       "    </tr>\n",
       "    <tr>\n",
       "      <th>5</th>\n",
       "      <td>3</td>\n",
       "      <td>104</td>\n",
       "    </tr>\n",
       "  </tbody>\n",
       "</table>\n",
       "</div>"
      ],
      "text/plain": [
       "   movie_id  user_id\n",
       "0         1      101\n",
       "1         2      102\n",
       "2         3      101\n",
       "3         1      101\n",
       "4         2      104\n",
       "5         3      104"
      ]
     },
     "execution_count": 8,
     "metadata": {},
     "output_type": "execute_result"
    }
   ],
   "source": [
    "df"
   ]
  },
  {
   "cell_type": "code",
   "execution_count": 9,
   "id": "565e76fd",
   "metadata": {},
   "outputs": [
    {
     "name": "stdout",
     "output_type": "stream",
     "text": [
      "   movie_id  other_movie_id  similarity\n",
      "0         1               1    1.000000\n",
      "1         1               2    0.000000\n",
      "2         1               3    0.500000\n",
      "3         2               1    0.000000\n",
      "4         2               2    1.000000\n",
      "5         2               3    0.333333\n",
      "6         3               1    0.500000\n",
      "7         3               2    0.333333\n",
      "8         3               3    1.000000\n"
     ]
    }
   ],
   "source": [
    "import pandas as pd\n",
    "from itertools import product\n",
    "movie_pairs = list(product(df['movie_id'].unique(), repeat=2))\n",
    "similarities = []\n",
    "\n",
    "for pair in movie_pairs:\n",
    "    movie1_users = set(df[df['movie_id'] == pair[0]]['user_id'])\n",
    "    movie2_users = set(df[df['movie_id'] == pair[1]]['user_id'])\n",
    "    jaccard_similarity = len(movie1_users.intersection(movie2_users)) / len(movie1_users.union(movie2_users))\n",
    "    similarities.append((pair[0], pair[1], jaccard_similarity))\n",
    "\n",
    "# 创建包含相似度的数据框\n",
    "similarity_df = pd.DataFrame(similarities, columns=['movie_id', 'other_movie_id', 'similarity'])\n",
    "print(similarity_df)"
   ]
  },
  {
   "cell_type": "code",
   "execution_count": null,
   "id": "246a9a39",
   "metadata": {},
   "outputs": [],
   "source": []
  },
  {
   "cell_type": "code",
   "execution_count": null,
   "id": "1f400d16",
   "metadata": {},
   "outputs": [],
   "source": [
    "import numpy as np\n",
    "from pymoo.model.problem import Problem\n",
    "from pymoo.algorithms.nsga2 import NSGA2\n",
    "from pymoo.factory import get_sampling, get_crossover, get_mutation\n",
    "from pymoo.optimize import minimize\n",
    "\n",
    "class MyProblem(Problem):\n",
    "    def __init__(self, Q, S):\n",
    "        self.Q = Q\n",
    "        self.S = S\n",
    "        super().__init__(n_var=len(Q), n_obj=1, xl=0, xu=10)  # 假设变量的取值范围为 [0, 10]\n",
    "\n",
    "    def _evaluate(self, x, out, *args, **kwargs):\n",
    "        f = np.sum(x * self.Q) - np.sum(self.S * (np.tile(x, (len(x), 1)).T - np.tile(x, (len(x), 1))) * np.tile(self.Q, (len(x), 1)).T)\n",
    "        out[\"F\"] = f,\n",
    "\n",
    "# 初始化 Q 和 S\n",
    "Q = np.array([2, 3, 1, 4, 2])  # 假设给定的 Q_i\n",
    "S = np.array([[1, 0.5, 2, 1, 1], [0.5, 1, 1, 0.8, 0.6], [2, 1, 3, 2, 2], [1, 0.8, 2, 2.5, 1.5], [1, 0.6, 2, 1.5, 2]])\n",
    "\n",
    "problem = MyProblem(Q, S)\n",
    "\n",
    "# 选择算法和设置参数\n",
    "algorithm = NSGA2(pop_size=100)\n",
    "\n",
    "# 优化\n",
    "res = minimize(problem,\n",
    "               algorithm,\n",
    "               ('n_gen', 100),\n",
    "               seed=1,\n",
    "               verbose=True)\n",
    "\n",
    "# 输出 Pareto 最优解\n",
    "print(\"Pareto 最优解:\")\n",
    "print(res.X, res.F)"
   ]
  },
  {
   "cell_type": "code",
   "execution_count": null,
   "id": "e7ffc92f",
   "metadata": {},
   "outputs": [],
   "source": [
    "import numpy as np\n",
    "import pandas as pd\n",
    "from pymoo.model.problem import Problem\n",
    "from pymoo.algorithms.nsga2 import NSGA2\n",
    "from pymoo.optimize import minimize\n",
    "\n",
    "# 从Pandas数据框中读取常数项\n",
    "constants_df = pd.DataFrame({\n",
    "    'P_i_upper_limit': [10, 10, 10],  # 举例，假设有3个变量\n",
    "    'P_i_lower_limit': [0, 0, 0],\n",
    "    'Q_i': [2, 3, 1],\n",
    "    'S_ij_1': [1, 0.5, 2],\n",
    "    'S_ij_2': [0.5, 1, 1],\n",
    "    'S_ij_3': [2, 1, 3]\n",
    "})\n",
    "\n",
    "# 定义多目标寻优问题\n",
    "class MyProblem(Problem):\n",
    "    def __init__(self, constants):\n",
    "        self.constants = constants\n",
    "        n_var = len(constants) - 3  # 总的常数列数减去不属于P变量的列数\n",
    "        super().__init__(n_var=n_var, n_obj=1, xl=constants['P_i_lower_limit'].values, xu=constants['P_i_upper_limit'].values)\n",
    "\n",
    "    def _evaluate(self, x, out, *args, **kwargs):\n",
    "        Q = self.constants['Q_i'].values\n",
    "        S = self.constants.filter(like='S_ij').values.reshape(-1, len(self.constants)-3)\n",
    "        \n",
    "        f = np.sum(x * Q) - np.sum(S * (np.tile(x, (len(x), 1)).T - np.tile(x, (len(x), 1))) * np.tile(Q, (len(x), 1)).T)\n",
    "        out[\"F\"] = f,\n",
    "\n",
    "# 创建问题实例并进行优化\n",
    "problem = MyProblem(constants_df)\n",
    "algorithm = NSGA2(pop_size=100)\n",
    "res = minimize(problem, algorithm, ('n_gen', 100), seed=1, verbose=True)\n",
    "\n",
    "# 输出 Pareto 最优解\n",
    "print(\"Pareto 最优解:\")\n",
    "print(res.X, res.F)\n"
   ]
  },
  {
   "cell_type": "code",
   "execution_count": null,
   "id": "daec5016",
   "metadata": {},
   "outputs": [],
   "source": []
  },
  {
   "cell_type": "code",
   "execution_count": null,
   "id": "9977acfa",
   "metadata": {},
   "outputs": [],
   "source": []
  },
  {
   "cell_type": "code",
   "execution_count": null,
   "id": "240f847e",
   "metadata": {},
   "outputs": [],
   "source": []
  },
  {
   "cell_type": "code",
   "execution_count": 10,
   "id": "f7788982",
   "metadata": {},
   "outputs": [
    {
     "name": "stdout",
     "output_type": "stream",
     "text": [
      "   movie_id   movie_sales\n",
      "0         1  [2000, 5000]\n",
      "1         2  [3000, 4000]\n",
      "2         3        [6000]\n"
     ]
    }
   ],
   "source": [
    "import pandas as pd\n",
    "\n",
    "# 创建示例数据表\n",
    "data = {\n",
    "    'movie_id': [1, 2, 3, 1, 2],\n",
    "    'movie_sales': [5000, 3000, 6000, 2000, 4000],\n",
    "    'sales_time': ['2022-01-15', '2022-01-10', '2022-01-20', '2022-01-12', '2022-01-18']\n",
    "}\n",
    "df = pd.DataFrame(data)\n",
    "\n",
    "# 根据 movie_id 分组，对每个分组内的 movie_sales 按 sales_time 升序排列，并转换为列表形式\n",
    "movie_sales_list = df.sort_values('sales_time').groupby('movie_id')['movie_sales'].apply(list).reset_index()\n",
    "\n",
    "print(movie_sales_list)\n"
   ]
  },
  {
   "cell_type": "code",
   "execution_count": null,
   "id": "821b114f",
   "metadata": {},
   "outputs": [],
   "source": [
    "# 转换列表中的元素为浮点数\n",
    "movie_sales_list['movie_sales'] = movie_sales_list['movie_sales'].apply(lambda x: [float(i) for i in x])\n",
    "\n",
    "# 将数据存储为csv文件\n",
    "# movie_sales_list.to_csv('movie_sales_list.csv', index=False)\n"
   ]
  }
 ],
 "metadata": {
  "kernelspec": {
   "display_name": "Python 3.9.13 64-bit ('py39': conda)",
   "language": "python",
   "name": "python391364bitpy39condac7c506f9cab54b8fb14c849351f28e1d"
  },
  "language_info": {
   "codemirror_mode": {
    "name": "ipython",
    "version": 3
   },
   "file_extension": ".py",
   "mimetype": "text/x-python",
   "name": "python",
   "nbconvert_exporter": "python",
   "pygments_lexer": "ipython3",
   "version": "3.9.13"
  }
 },
 "nbformat": 4,
 "nbformat_minor": 5
}
